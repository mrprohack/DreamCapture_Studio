{
  "nbformat": 4,
  "nbformat_minor": 0,
  "metadata": {
    "colab": {
      "provenance": [],
      "gpuType": "T4"
    },
    "kernelspec": {
      "name": "python3",
      "display_name": "Python 3"
    },
    "language_info": {
      "name": "python"
    },
    "accelerator": "GPU"
  },
  "cells": [
    {
      "cell_type": "code",
      "source": [
        "#@title 🚀 AutoTrain DreamBooth setup\n",
        "\n",
        "#@markdown 1. **Upload Images:** Place images in the `images/` folder.\n",
        "#@markdown 2. **Define Prompt:** Create a unique, specific prompt.\n",
        "#@markdown 3. **Open Telegram:** Find \"DreamCapture_Studio_bot\" on Telegram at [this link](https://t.me/DreamCapture_Studio_bot) and start a chat.\n",
        "#@markdown 4. **Get Target User ID:** The bot will reply with the target_user_id.\n",
        "#@markdown 5. **Run Your Project:** Execute code cells in Colab by using `Runtime > Run all` or individual cells.\n",
        "\n",
        "import os\n",
        "prompt = 'photo of '  # @param {type: \"string\"}\n",
        "target_user_id =  \"\" # @param {type: \"string\"}"
      ],
      "metadata": {
        "id": "iUE8lQrVi9Uc"
      },
      "execution_count": null,
      "outputs": []
    },
    {
      "cell_type": "code",
      "source": [
        "#@title 🚀 AutoTrain DreamBooth install\n",
        "import os\n",
        "!pip install -U autotrain-advanced > install_logs.txt 2>/dev/null\n",
        "!autotrain setup > setup_logs.txt 2>/dev/null\n",
        "!pip install pyTelegramBotAPI\n",
        "\n",
        "\n",
        "project_name = 'lora'\n",
        "model_name = 'stabilityai/stable-diffusion-xl-base-1.0'\n",
        "\n",
        "learning_rate = 1e-4\n",
        "num_steps = 500\n",
        "batch_size = 1\n",
        "gradient_accumulation = 4\n",
        "resolution = 1024\n",
        "use_8bit_adam = True\n",
        "use_xformers = True\n",
        "use_fp16 = True\n",
        "train_text_encoder = False\n",
        "gradient_checkpointing = True\n",
        "\n",
        "os.environ[\"PROJECT_NAME\"] = project_name\n",
        "os.environ[\"MODEL_NAME\"] = model_name\n",
        "os.environ[\"PROMPT\"] = prompt\n",
        "os.environ[\"LEARNING_RATE\"] = str(learning_rate)\n",
        "os.environ[\"NUM_STEPS\"] = str(num_steps)\n",
        "os.environ[\"BATCH_SIZE\"] = str(batch_size)\n",
        "os.environ[\"GRADIENT_ACCUMULATION\"] = str(gradient_accumulation)\n",
        "os.environ[\"RESOLUTION\"] = str(resolution)\n",
        "os.environ[\"USE_8BIT_ADAM\"] = str(use_8bit_adam)\n",
        "os.environ[\"USE_XFORMERS\"] = str(use_xformers)\n",
        "os.environ[\"USE_FP16\"] = str(use_fp16)\n",
        "os.environ[\"TRAIN_TEXT_ENCODER\"] = str(train_text_encoder)\n",
        "os.environ[\"GRADIENT_CHECKPOINTING\"] = str(gradient_checkpointing)"
      ],
      "metadata": {
        "id": "hjuwdejPirb9",
        "cellView": "form"
      },
      "execution_count": null,
      "outputs": []
    },
    {
      "cell_type": "code",
      "source": [
        "#@title 🚀 AutoTrain DreamBooth Train\n",
        "!autotrain dreambooth \\\n",
        "--model ${MODEL_NAME} \\\n",
        "--project-name ${PROJECT_NAME} \\\n",
        "--image-path images/ \\\n",
        "--prompt \"${PROMPT}\" \\\n",
        "--resolution ${RESOLUTION} \\\n",
        "--batch-size ${BATCH_SIZE} \\\n",
        "--num-steps ${NUM_STEPS} \\\n",
        "--gradient-accumulation ${GRADIENT_ACCUMULATION} \\\n",
        "--lr ${LEARNING_RATE} \\\n",
        "$( [[ \"$USE_FP16\" == \"True\" ]] && echo \"--fp16\" ) \\\n",
        "$( [[ \"$USE_XFORMERS\" == \"True\" ]] && echo \"--xformers\" ) \\\n",
        "$( [[ \"$TRAIN_TEXT_ENCODER\" == \"True\" ]] && echo \"--train-text-encoder\" ) \\\n",
        "$( [[ \"$USE_8BIT_ADAM\" == \"True\" ]] && echo \"--use-8bit-adam\" ) \\\n",
        "$( [[ \"$GRADIENT_CHECKPOINTING\" == \"True\" ]] && echo \"--gradient-checkpointing\" )"
      ],
      "metadata": {
        "id": "zpr8HtBOl6Ll",
        "cellView": "form"
      },
      "execution_count": null,
      "outputs": []
    },
    {
      "cell_type": "code",
      "source": [
        "#@title 🚀 AutoTrain DreamBooth run\n",
        "\n",
        "from diffusers import DiffusionPipeline\n",
        "import torch\n",
        "\n",
        "# Update prj_path to your repository or local path\n",
        "prj_path = \"/content/lora\"\n",
        "\n",
        "model = \"stabilityai/stable-diffusion-xl-base-1.0\"\n",
        "pipe = DiffusionPipeline.from_pretrained(\n",
        "    model,\n",
        "    torch_dtype=torch.float16,\n",
        ")\n",
        "pipe.to(\"cuda\")\n",
        "pipe.load_lora_weights(prj_path, weight_name=\"pytorch_lora_weights.safetensors\")\n",
        "\n",
        "\n",
        "import telebot\n",
        "YOUR_BOT_TOKEN = \"6460768650:AAFV9szdeDvmjVPbZwun4O5FwoCMhZmKgV0\"\n",
        "bot = telebot.TeleBot(YOUR_BOT_TOKEN)\n",
        "file_path = \"/content/lora/pytorch_lora_weights.safetensors\"\n",
        "\n",
        "# Open the file in binary mode\n",
        "with open(file_path, 'rb') as file:\n",
        "    # Send the file using the send_document method\n",
        "    bot.send_document(target_user_id, file, caption='Your LORA file here')\n"
      ],
      "metadata": {
        "id": "jVIBHIQSnfBY",
        "cellView": "form"
      },
      "execution_count": null,
      "outputs": []
    },
    {
      "cell_type": "code",
      "source": [
        "#@title 🚀 AutoTrain DreamBooth\n",
        "oldprompt = prompt\n",
        "prompt = oldprompt+\" black suit with a white shirt and a red tie. His face is blurred out and he is standing with his arms crossed in front of him. The background is black.\" # @param {type: \"string\"}\n",
        "start_seed = 0  # @param {type:\"number\"}\n",
        "newimg = 0\n",
        "images = 10 # @param {type:\"number\"}\n",
        "for seed in range(images):\n",
        "    newimg = start_seed + seed\n",
        "    generator = torch.Generator(\"cuda\").manual_seed(newimg)\n",
        "    image = pipe(prompt=prompt, generator=generator,num_inference_steps=25).images[0]\n",
        "    image.save(f\"dreambooth/{newimg}.png\")\n",
        "    image_path = f'/content/dreambooth/{newimg}.png'\n",
        "    # Send the image along with a message to the channel\n",
        "    with open(image_path, 'rb') as image_file:\n",
        "        bot.send_photo(target_user_id, photo=image_file, caption=f'image name is: {newimg}.png')"
      ],
      "metadata": {
        "id": "kC-oV3kBi2AE",
        "cellView": "form"
      },
      "execution_count": null,
      "outputs": []
    }
  ]
}